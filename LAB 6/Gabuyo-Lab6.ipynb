{
  "cells": [
    {
      "cell_type": "markdown",
      "metadata": {
        "id": "view-in-github",
        "colab_type": "text"
      },
      "source": [
        "<a href=\"https://colab.research.google.com/github/ivanoveGabuyo/CPE-201L---CPE-2-B/blob/main/Gabuyo-Lab6.ipynb\" target=\"_parent\"><img src=\"https://colab.research.google.com/assets/colab-badge.svg\" alt=\"Open In Colab\"/></a>"
      ]
    },
    {
      "cell_type": "code",
      "source": [
        "class Node:\n",
        "    \"\"\"Node class for singly linked list\"\"\"\n",
        "    def __init__(self, data):\n",
        "        self.data = data\n",
        "        self.next = None\n",
        "\n",
        "\n",
        "class SinglyLinkedList:\n",
        "    \"\"\"Singly Linked List implementation\"\"\"\n",
        "    def __init__(self):\n",
        "        self.head = None\n",
        "\n",
        "    def is_empty(self):\n",
        "        \"\"\"Check if the list is empty\"\"\"\n",
        "        return self.head is None\n",
        "\n",
        "    def append(self, data):\n",
        "        \"\"\"Insert a new node at the end\"\"\"\n",
        "        new_node = Node(data)\n",
        "        if self.is_empty():\n",
        "            self.head = new_node\n",
        "            return\n",
        "        current = self.head\n",
        "        while current.next:\n",
        "            current = current.next\n",
        "        current.next = new_node\n",
        "\n",
        "    def display(self):\n",
        "        \"\"\"Display the list from head to tail\"\"\"\n",
        "        if self.is_empty():\n",
        "            print(\"List is empty\")\n",
        "            return\n",
        "        current = self.head\n",
        "        elements = []\n",
        "        while current:\n",
        "            elements.append(current.data)\n",
        "            current = current.next\n",
        "        print(\"Linked List Elements:\", elements)\n",
        "        print(\"Head:\", elements[0])\n",
        "        print(\"Tail:\", elements[-1])\n",
        "\n",
        "\n",
        "def is_prime(n):\n",
        "    \"\"\"Check if a number is prime\"\"\"\n",
        "    if n < 2:\n",
        "        return False\n",
        "    for i in range(2, int(n**0.5) + 1):\n",
        "        if n % i == 0:\n",
        "            return False\n",
        "    return True\n",
        "\n",
        "\n",
        "def demo_singly_linked_list():\n",
        "    \"\"\"Demonstrate the singly linked list with prime numbers < 20\"\"\"\n",
        "    print(\"=\" * 50)\n",
        "    print(\"SINGLY LINKED LIST DEMONSTRATION\")\n",
        "    print(\"=\" * 50)\n",
        "\n",
        "    sll = SinglyLinkedList()\n",
        "\n",
        "    # Insert prime numbers less than 20\n",
        "    for num in range(20):\n",
        "        if is_prime(num):\n",
        "            sll.append(num)\n",
        "\n",
        "    # Display the list\n",
        "    sll.display()\n",
        "\n",
        "\n",
        "if __name__ == \"__main__\":\n",
        "    demo_singly_linked_list()\n"
      ],
      "metadata": {
        "id": "JyiDQ-SSP4db",
        "outputId": "f137671d-5021-4dbe-eb65-60eee7e3334c",
        "colab": {
          "base_uri": "https://localhost:8080/"
        }
      },
      "execution_count": 11,
      "outputs": [
        {
          "output_type": "stream",
          "name": "stdout",
          "text": [
            "==================================================\n",
            "SINGLY LINKED LIST DEMONSTRATION\n",
            "==================================================\n",
            "Linked List Elements: [2, 3, 5, 7, 11, 13, 17, 19]\n",
            "Head: 2\n",
            "Tail: 19\n"
          ]
        }
      ]
    }
  ],
  "metadata": {
    "colab": {
      "name": "Welcome To Colab",
      "toc_visible": true,
      "provenance": [],
      "include_colab_link": true
    },
    "kernelspec": {
      "display_name": "Python 3",
      "name": "python3"
    }
  },
  "nbformat": 4,
  "nbformat_minor": 0
}