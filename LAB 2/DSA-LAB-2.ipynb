{
  "cells": [
    {
      "cell_type": "markdown",
      "metadata": {
        "id": "view-in-github",
        "colab_type": "text"
      },
      "source": [
        "<a href=\"https://colab.research.google.com/github/ivanoveGabuyo/CPE-201L---CPE-2-B/blob/main/DSA-LAB-2.ipynb\" target=\"_parent\"><img src=\"https://colab.research.google.com/assets/colab-badge.svg\" alt=\"Open In Colab\"/></a>"
      ]
    },
    {
      "cell_type": "code",
      "source": [
        "\n",
        "\n",
        "def find_sequence_bounds(sequence):\n",
        "\n",
        "\n",
        "    if not sequence:\n",
        "        raise ValueError(\"Input sequence cannot be empty\")\n",
        "\n",
        "\n",
        "    if len(sequence) == 1:\n",
        "        return (sequence[0], sequence[0])\n",
        "\n",
        "\n",
        "    current_element = sequence[0]\n",
        "    recursive_min, recursive_max = find_sequence_bounds(sequence[1:])\n",
        "\n",
        "\n",
        "    minimum = current_element if current_element < recursive_min else recursive_min\n",
        "    maximum = current_element if current_element > recursive_max else recursive_max\n",
        "\n",
        "    return (minimum, maximum)\n",
        "\n",
        "\n",
        "def main():\n",
        "    \"\"\"Demonstrates the functionality with example usage.\"\"\"\n",
        "    try:\n",
        "        test_data = [11, 9, 23, 6, 5, 3]\n",
        "        data_min, data_max = find_sequence_bounds(test_data)\n",
        "\n",
        "        print(\"\\nData Analysis Results\")\n",
        "        print(\"--------------------\")\n",
        "        print(f\"Input Sequence: {test_data}\")\n",
        "        print(f\"Minimum Value: {data_min}\")\n",
        "        print(f\"Maximum Value: {data_max}\")\n",
        "        print(\"--------------------\\n\")\n",
        "\n",
        "    except ValueError as e:\n",
        "        print(f\"Error: {e}\")\n",
        "\n",
        "\n",
        "if __name__ == \"__main__\":\n",
        "    main()"
      ],
      "metadata": {
        "id": "4ZWT27i1dM0E",
        "outputId": "9c8421af-bc12-40c2-be76-cc2043c7e59f",
        "colab": {
          "base_uri": "https://localhost:8080/"
        }
      },
      "execution_count": 50,
      "outputs": [
        {
          "output_type": "stream",
          "name": "stdout",
          "text": [
            "\n",
            "Data Analysis Results\n",
            "--------------------\n",
            "Input Sequence: [11, 9, 23, 6, 5, 3]\n",
            "Minimum Value: 3\n",
            "Maximum Value: 23\n",
            "--------------------\n",
            "\n"
          ]
        }
      ]
    }
  ],
  "metadata": {
    "colab": {
      "name": "Welcome To Colab",
      "toc_visible": true,
      "provenance": [],
      "include_colab_link": true
    },
    "kernelspec": {
      "display_name": "Python 3",
      "name": "python3"
    }
  },
  "nbformat": 4,
  "nbformat_minor": 0
}