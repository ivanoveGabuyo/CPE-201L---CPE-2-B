{
  "cells": [
    {
      "cell_type": "markdown",
      "metadata": {
        "id": "view-in-github",
        "colab_type": "text"
      },
      "source": [
        "<a href=\"https://colab.research.google.com/github/ivanoveGabuyo/CPE-201L---CPE-2-B/blob/main/Queue-Gabuyo.ipynb\" target=\"_parent\"><img src=\"https://colab.research.google.com/assets/colab-badge.svg\" alt=\"Open In Colab\"/></a>"
      ]
    },
    {
      "cell_type": "code",
      "source": [
        "\n",
        "queue = []\n",
        "# enqueue items into queue\n",
        "queue.append('A')\n",
        "queue.append('B')\n",
        "queue.append('C')\n",
        "print(queue)\n",
        "\n",
        "# dequeue items from the queue\n",
        "print(queue.pop(0))\n",
        "print(queue.pop(0))\n",
        "print(queue.pop(0))\n",
        "print(queue)\n",
        "\n",
        "# function to get the tail of the queue\n",
        "def tail_queue(q):\n",
        "    if len(q) > 0:\n",
        "        return q[-1]   # last element\n",
        "    else:\n",
        "        return None    # if queue is empty\n",
        "\n",
        "# Example usage with similar letters\n",
        "queue.append('D')\n",
        "queue.append('E')\n",
        "print(\"Queue:\", queue)\n",
        "print(\"Tail of queue:\", tail_queue(queue))"
      ],
      "metadata": {
        "id": "joOTSRkRMHFZ",
        "outputId": "f42066ee-a7d3-4422-c4fc-f73f9dbb24d8",
        "colab": {
          "base_uri": "https://localhost:8080/"
        }
      },
      "execution_count": 9,
      "outputs": [
        {
          "output_type": "stream",
          "name": "stdout",
          "text": [
            "['A', 'B', 'C']\n",
            "A\n",
            "B\n",
            "C\n",
            "[]\n",
            "Queue: ['D', 'E']\n",
            "Tail of queue: E\n"
          ]
        }
      ]
    }
  ],
  "metadata": {
    "colab": {
      "name": "Welcome To Colab",
      "provenance": [],
      "include_colab_link": true
    },
    "kernelspec": {
      "display_name": "Python 3",
      "name": "python3"
    }
  },
  "nbformat": 4,
  "nbformat_minor": 0
}