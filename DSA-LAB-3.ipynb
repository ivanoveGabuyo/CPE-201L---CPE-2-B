{
  "cells": [
    {
      "cell_type": "markdown",
      "metadata": {
        "id": "view-in-github",
        "colab_type": "text"
      },
      "source": [
        "<a href=\"https://colab.research.google.com/github/ivanoveGabuyo/CPE-201L---CPE-2-B/blob/main/DSA-LAB-3.ipynb\" target=\"_parent\"><img src=\"https://colab.research.google.com/assets/colab-badge.svg\" alt=\"Open In Colab\"/></a>"
      ]
    },
    {
      "cell_type": "code",
      "source": [
        "\n",
        "\n",
        "scores = [26, 49, 98, 87, 62, 75]\n",
        "sum_of_evens = 0\n",
        "\n",
        "for score in scores:\n",
        "    if score % 2 == 0:\n",
        "        sum_of_evens += score\n",
        "\n",
        "print(f\" the sum of even numbers is: {sum_of_evens}\")\n"
      ],
      "metadata": {
        "colab": {
          "base_uri": "https://localhost:8080/"
        },
        "id": "4ZWT27i1dM0E",
        "outputId": "1f13e762-c947-4935-be53-d381da8bf66b"
      },
      "execution_count": 51,
      "outputs": [
        {
          "output_type": "stream",
          "name": "stdout",
          "text": [
            " the sum of even numbers is: 186\n"
          ]
        }
      ]
    }
  ],
  "metadata": {
    "colab": {
      "name": "Welcome To Colab",
      "toc_visible": true,
      "provenance": [],
      "include_colab_link": true
    },
    "kernelspec": {
      "display_name": "Python 3",
      "name": "python3"
    }
  },
  "nbformat": 4,
  "nbformat_minor": 0
}