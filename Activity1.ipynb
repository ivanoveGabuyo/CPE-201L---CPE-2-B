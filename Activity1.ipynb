{
  "nbformat": 4,
  "nbformat_minor": 0,
  "metadata": {
    "colab": {
      "provenance": [],
      "authorship_tag": "ABX9TyPwvoOWN440Wv5GcenGmKK4",
      "include_colab_link": true
    },
    "kernelspec": {
      "name": "python3",
      "display_name": "Python 3"
    },
    "language_info": {
      "name": "python"
    }
  },
  "cells": [
    {
      "cell_type": "markdown",
      "metadata": {
        "id": "view-in-github",
        "colab_type": "text"
      },
      "source": [
        "<a href=\"https://colab.research.google.com/github/ivanoveGabuyo/CPE-201L---CPE-2-B/blob/main/Activity1.ipynb\" target=\"_parent\"><img src=\"https://colab.research.google.com/assets/colab-badge.svg\" alt=\"Open In Colab\"/></a>"
      ]
    },
    {
      "cell_type": "code",
      "execution_count": 22,
      "metadata": {
        "colab": {
          "base_uri": "https://localhost:8080/"
        },
        "id": "h0EENCl3W06m",
        "outputId": "c5538e67-f447-4bc4-d628-eba0ee1b6930"
      },
      "outputs": [
        {
          "output_type": "stream",
          "name": "stdout",
          "text": [
            "1256.6370614359173\n"
          ]
        }
      ],
      "source": [
        "  import math\n",
        "\n",
        "  def area_of_circle(radius):\n",
        "      print (math.pi * radius**2)\n",
        "\n",
        "  area_of_circle(20)\n",
        ""
      ]
    },
    {
      "cell_type": "code",
      "source": [
        "import math\n",
        "def area_of_circle(diameter):\n",
        "    print (math.pi * diameter**2/4)\n",
        "\n",
        "area_of_circle(40)\n",
        "\n"
      ],
      "metadata": {
        "colab": {
          "base_uri": "https://localhost:8080/"
        },
        "id": "RTGBUi1hX2EB",
        "outputId": "230a5b81-b03c-40a1-d732-11ce07382f23"
      },
      "execution_count": 27,
      "outputs": [
        {
          "output_type": "stream",
          "name": "stdout",
          "text": [
            "1256.6370614359173\n"
          ]
        }
      ]
    }
  ]
}