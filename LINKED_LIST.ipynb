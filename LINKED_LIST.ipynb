{
  "nbformat": 4,
  "nbformat_minor": 0,
  "metadata": {
    "colab": {
      "provenance": [],
      "name": "LINKED.LIST.ipynb",
      "include_colab_link": true
    },
    "kernelspec": {
      "name": "python3",
      "display_name": "Python 3"
    },
    "language_info": {
      "name": "python"
    }
  },
  "cells": [
    {
      "cell_type": "markdown",
      "metadata": {
        "id": "view-in-github",
        "colab_type": "text"
      },
      "source": [
        "<a href=\"https://colab.research.google.com/github/ivanoveGabuyo/CPE-201L---CPE-2-B/blob/main/LINKED_LIST.ipynb\" target=\"_parent\"><img src=\"https://colab.research.google.com/assets/colab-badge.svg\" alt=\"Open In Colab\"/></a>"
      ]
    },
    {
      "cell_type": "code",
      "source": [
        "# Node class\n",
        "class Node:\n",
        "    # Initialize the node object\n",
        "    def __init__(self, data):\n",
        "        self.data = data  # Assign data\n",
        "        self.next = None  # Initialize next as null\n",
        "\n",
        "\n",
        "# Linked List class\n",
        "class LinkedList:\n",
        "    def __init__(self):\n",
        "        self.head = None\n",
        "\n",
        "    def print_data(self):\n",
        "        current = self.head\n",
        "        while current:\n",
        "            print(current.data)\n",
        "            current = current.next\n",
        "\n",
        "    def delete_node(self, key):\n",
        "        current = self.head\n",
        "        prev = None\n",
        "\n",
        "        # Case 1: head node holds the key\n",
        "        if current and current.data == key:\n",
        "            self.head = current.next\n",
        "            current = None\n",
        "            return\n",
        "\n",
        "        # Case 2: search for the node to delete\n",
        "        while current and current.data != key:\n",
        "            prev = current\n",
        "            current = current.next\n",
        "\n",
        "        # If key not found\n",
        "        if not current:\n",
        "            print(f\"Node '{key}' not found in the list.\")\n",
        "            return\n",
        "\n",
        "        # Unlink the node\n",
        "        prev.next = current.next\n",
        "        current = None\n",
        "\n",
        "\n",
        "if __name__ == '__main__':\n",
        "    # Start with the empty list\n",
        "    llist = LinkedList()\n",
        "\n",
        "    llist.head = Node(\"A\")  # object name1\n",
        "    second = Node(\"B\")      # object name2\n",
        "    third = Node(\"C\")\n",
        "    fourth = Node(\"D\")\n",
        "\n",
        "    llist.head.next = second  # Link first node with second\n",
        "    second.next = third       # Link second node with the third node\n",
        "    third.next = fourth       # Link third to fourth\n",
        "\n",
        "    print(\"Original list:\")\n",
        "    llist.print_data()\n",
        "\n",
        "    print(\"\\nAfter deleting 'C':\")\n",
        "    llist.delete_node(\"C\")\n",
        "    llist.print_data()\n",
        "\n",
        "    print(\"\\nAfter deleting 'A' (head):\")\n",
        "    llist.delete_node(\"A\")\n",
        "    llist.print_data()\n",
        "\n",
        "    print(\"\\nAfter trying to delete 'A,B' (not in list):\")\n",
        "    llist.delete_node(\"A,B\")\n",
        "    llist.print_data()\n"
      ],
      "metadata": {
        "colab": {
          "base_uri": "https://localhost:8080/"
        },
        "id": "Ng5cV6hOdxng",
        "outputId": "a9eaf66c-679b-4a7f-d354-0136f3d0bc3a"
      },
      "execution_count": null,
      "outputs": [
        {
          "output_type": "stream",
          "name": "stdout",
          "text": [
            "Original list:\n",
            "A\n",
            "B\n",
            "C\n",
            "D\n",
            "\n",
            "After deleting 'C':\n",
            "A\n",
            "B\n",
            "D\n",
            "\n",
            "After deleting 'A' (head):\n",
            "B\n",
            "D\n",
            "\n",
            "After trying to delete 'A,B' (not in list):\n",
            "Node 'A,B' not found in the list.\n",
            "B\n",
            "D\n"
          ]
        }
      ]
    }
  ]
}