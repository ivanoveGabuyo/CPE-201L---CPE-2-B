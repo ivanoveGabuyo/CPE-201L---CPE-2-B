{
  "cells": [
    {
      "cell_type": "markdown",
      "metadata": {
        "id": "view-in-github",
        "colab_type": "text"
      },
      "source": [
        "<a href=\"https://colab.research.google.com/github/ivanoveGabuyo/CPE-201L---CPE-2-B/blob/main/DSA-LAB%202.ipynb\" target=\"_parent\"><img src=\"https://colab.research.google.com/assets/colab-badge.svg\" alt=\"Open In Colab\"/></a>"
      ]
    },
    {
      "cell_type": "code",
      "source": [
        "def find_min_max(seq):\n",
        "    # Handle empty list case\n",
        "    if not seq:\n",
        "        raise ValueError(\"The sequence is empty.\")\n",
        "\n",
        "    # Base case: only one element\n",
        "    if len(seq) == 1:\n",
        "        return seq[0], seq[0]\n",
        "\n",
        "    # Recursive case\n",
        "    min_rest, max_rest = find_min_max(seq[1:])\n",
        "    return min(seq[0], min_rest), max(seq[0], max_rest)\n",
        "\n",
        "# Example usage\n",
        "numbers = [11, 9, 23, 6, 5, 3]\n",
        "minimum, maximum = find_min_max(numbers)\n",
        "print(\"Min:\", minimum)\n",
        "print(\"Max:\", maximum)\n"
      ],
      "metadata": {
        "id": "yy1tLM-ic-u7",
        "outputId": "b712da06-b4bd-420d-fe81-6fb0842e9809",
        "colab": {
          "base_uri": "https://localhost:8080/"
        }
      },
      "execution_count": 3,
      "outputs": [
        {
          "output_type": "stream",
          "name": "stdout",
          "text": [
            "Min: 3\n",
            "Max: 23\n"
          ]
        }
      ]
    }
  ],
  "metadata": {
    "colab": {
      "name": "Welcome To Colab",
      "toc_visible": true,
      "provenance": [],
      "include_colab_link": true
    },
    "kernelspec": {
      "display_name": "Python 3",
      "name": "python3"
    }
  },
  "nbformat": 4,
  "nbformat_minor": 0
}