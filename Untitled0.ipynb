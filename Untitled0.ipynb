{
  "nbformat": 4,
  "nbformat_minor": 0,
  "metadata": {
    "colab": {
      "provenance": [],
      "authorship_tag": "ABX9TyNLxkDAFMfaRmaSSdWDS1Qb",
      "include_colab_link": true
    },
    "kernelspec": {
      "name": "python3",
      "display_name": "Python 3"
    },
    "language_info": {
      "name": "python"
    }
  },
  "cells": [
    {
      "cell_type": "markdown",
      "metadata": {
        "id": "view-in-github",
        "colab_type": "text"
      },
      "source": [
        "<a href=\"https://colab.research.google.com/github/ivanoveGabuyo/CPE-201L---CPE-2-B/blob/main/Untitled0.ipynb\" target=\"_parent\"><img src=\"https://colab.research.google.com/assets/colab-badge.svg\" alt=\"Open In Colab\"/></a>"
      ]
    },
    {
      "cell_type": "code",
      "execution_count": 5,
      "metadata": {
        "colab": {
          "base_uri": "https://localhost:8080/"
        },
        "id": "h0EENCl3W06m",
        "outputId": "b853f686-b7a4-4ecc-863d-f966deecfb24"
      },
      "outputs": [
        {
          "output_type": "stream",
          "name": "stdout",
          "text": [
            "Enter the length of the rectangle:288\n",
            " Enter the width of the rectangle190\n",
            "The perimeter of the rectangle is: 478.0\n"
          ]
        }
      ],
      "source": [
        "def rectangle_perimeter(length, width ):\n",
        "    perimeter=(length + width)\n",
        "    return perimeter\n",
        "\n",
        "length = float(input(\"Enter the length of the rectangle:\"))\n",
        "width = float(input(\" Enter the width of the rectangle\"))\n",
        "\n",
        "perimeter = rectangle_perimeter(length, width)\n",
        "print(f\"The perimeter of the rectangle is: {perimeter}\")"
      ]
    },
    {
      "cell_type": "code",
      "source": [],
      "metadata": {
        "id": "RTGBUi1hX2EB"
      },
      "execution_count": 5,
      "outputs": []
    }
  ]
}