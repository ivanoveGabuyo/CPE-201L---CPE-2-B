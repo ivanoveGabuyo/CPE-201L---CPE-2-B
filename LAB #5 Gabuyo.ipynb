{
  "cells": [
    {
      "cell_type": "markdown",
      "metadata": {
        "id": "view-in-github",
        "colab_type": "text"
      },
      "source": [
        "<a href=\"https://colab.research.google.com/github/ivanoveGabuyo/CPE-201L---CPE-2-B/blob/main/LAB%20%235%20Gabuyo.ipynb\" target=\"_parent\"><img src=\"https://colab.research.google.com/assets/colab-badge.svg\" alt=\"Open In Colab\"/></a>"
      ]
    },
    {
      "cell_type": "code",
      "source": [
        "# Program 1: Create and display array, access elements, compute sum\n",
        "def program1():\n",
        "    numbers = [1, 2, 3, 4, 5, 6, 7, 8, 9, 10]\n",
        "    print(\"Original array:\", numbers)\n",
        "\n",
        "    # Access elements by index\n",
        "    print(\"\\nAccessing elements:\")\n",
        "    for i in range(len(numbers)):\n",
        "        print(f\"Index {i}: {numbers[i]}\")\n",
        "\n",
        "    # Compute sum\n",
        "    total = sum(numbers)\n",
        "    print(\"\\nSum of array elements:\", total)\n",
        "    print(\"-\" * 50)\n",
        "\n",
        "# Program 2: Append new item to end of array\n",
        "def program2():\n",
        "    numbers = [1, 2, 3, 4, 5, 6, 7, 8, 9, 10]\n",
        "    print(\"Original array:\", numbers)\n",
        "\n",
        "    numbers.append(11)\n",
        "    print(\"After appending 11:\", numbers)\n",
        "    print(\"-\" * 50)\n",
        "\n",
        "# Program 3: Insert new item before second element\n",
        "def program3():\n",
        "    numbers = [1, 2, 3, 4, 5, 6, 7, 8, 9, 10]\n",
        "    print(\"Original array:\", numbers)\n",
        "\n",
        "    numbers.insert(1, 1.5)  # Insert before index 1 (second element)\n",
        "    print(\"After inserting 1.5 before second element:\", numbers)\n",
        "    print(\"-\" * 50)\n",
        "\n",
        "# Program 4: Reverse array order\n",
        "def program4():\n",
        "    numbers = [5, 4, 3, 2, 1]\n",
        "    print(\"Original array:\", numbers)\n",
        "\n",
        "    numbers.reverse()\n",
        "    print(\"Reversed array:\", numbers)\n",
        "    print(\"-\" * 50)\n",
        "\n",
        "# Program 5: Get array length\n",
        "def program5():\n",
        "    numbers = [5, 4, 3, 2, 1]\n",
        "    print(\"Original array:\", numbers)\n",
        "\n",
        "    length = len(numbers)\n",
        "    print(\"Length of array:\", length)\n",
        "    print(\"-\" * 50)\n",
        "\n",
        "# Run all programs\n",
        "if __name__ == \"__main__\":\n",
        "    program1()\n",
        "    program2()\n",
        "    program3()\n",
        "    program4()\n",
        "    program5()"
      ],
      "metadata": {
        "id": "kB73o624U7OH",
        "outputId": "5e53f41f-bfa4-427e-ae53-4774dcc6dbba",
        "colab": {
          "base_uri": "https://localhost:8080/"
        }
      },
      "execution_count": 5,
      "outputs": [
        {
          "output_type": "stream",
          "name": "stdout",
          "text": [
            "Original array: [1, 2, 3, 4, 5, 6, 7, 8, 9, 10]\n",
            "\n",
            "Accessing elements:\n",
            "Index 0: 1\n",
            "Index 1: 2\n",
            "Index 2: 3\n",
            "Index 3: 4\n",
            "Index 4: 5\n",
            "Index 5: 6\n",
            "Index 6: 7\n",
            "Index 7: 8\n",
            "Index 8: 9\n",
            "Index 9: 10\n",
            "\n",
            "Sum of array elements: 55\n",
            "--------------------------------------------------\n",
            "Original array: [1, 2, 3, 4, 5, 6, 7, 8, 9, 10]\n",
            "After appending 11: [1, 2, 3, 4, 5, 6, 7, 8, 9, 10, 11]\n",
            "--------------------------------------------------\n",
            "Original array: [1, 2, 3, 4, 5, 6, 7, 8, 9, 10]\n",
            "After inserting 1.5 before second element: [1, 1.5, 2, 3, 4, 5, 6, 7, 8, 9, 10]\n",
            "--------------------------------------------------\n",
            "Original array: [5, 4, 3, 2, 1]\n",
            "Reversed array: [1, 2, 3, 4, 5]\n",
            "--------------------------------------------------\n",
            "Original array: [5, 4, 3, 2, 1]\n",
            "Length of array: 5\n",
            "--------------------------------------------------\n"
          ]
        }
      ]
    }
  ],
  "metadata": {
    "colab": {
      "name": "Welcome To Colab",
      "toc_visible": true,
      "provenance": [],
      "include_colab_link": true
    },
    "kernelspec": {
      "display_name": "Python 3",
      "name": "python3"
    }
  },
  "nbformat": 4,
  "nbformat_minor": 0
}