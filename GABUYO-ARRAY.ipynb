{
  "cells": [
    {
      "cell_type": "markdown",
      "metadata": {
        "id": "view-in-github",
        "colab_type": "text"
      },
      "source": [
        "<a href=\"https://colab.research.google.com/github/ivanoveGabuyo/CPE-201L---CPE-2-B/blob/main/GABUYO-ARRAY.ipynb\" target=\"_parent\"><img src=\"https://colab.research.google.com/assets/colab-badge.svg\" alt=\"Open In Colab\"/></a>"
      ]
    },
    {
      "cell_type": "code",
      "source": [
        "def traverse_array(arr):\n",
        "    \"\"\"Function to traverse and print all elements in the array\"\"\"\n",
        "    print(\"Traversing the array:\")\n",
        "    for i, element in enumerate(arr):\n",
        "        print(f\"Index {i}: {element}\")\n",
        "\n",
        "def reverse(arr):\n",
        "  \"\"\"Function to reverse the array in-place\"\"\"\n",
        "  print(\"Reversing the array:\")\n",
        "  arr.reverse()\n",
        "  print(\"Reversed array:\", arr)\n",
        "\n",
        "def delete_element(arr):\n",
        "    \"\"\"Function to delete an element by value\"\"\"\n",
        "    value = input(\"Enter the value to delete: \")\n",
        "    try:\n",
        "        value = int(value)\n",
        "        arr.remove(value)\n",
        "        print(f\"{value} deleted. Updated array:\", arr)\n",
        "    except ValueError:\n",
        "        print(f\"{value} not found in array.\")\n",
        "\n",
        "def insert_element(arr):\n",
        "    \"\"\"Function to insert an element at a specific position\"\"\"\n",
        "    try:\n",
        "        value = int(input(\"Enter the value to insert: \"))\n",
        "        position = int(input(f\"Enter the position (0 to {len(arr)}): \"))\n",
        "        if 0 <= position <= len(arr):\n",
        "            arr.insert(position, value)\n",
        "            print(f\"{value} inserted at position {position}. Updated array:\", arr)\n",
        "        else:\n",
        "            print(\"Invalid position.\")\n",
        "    except ValueError:\n",
        "        print(\"Invalid input. Please enter integers.\")\n",
        "\n",
        "def sort(arr):\n",
        "    \"\"\"Sort the array in ascending order\"\"\"\n",
        "    arr.sort()\n",
        "    print(\"Array sorted:\", arr)\n",
        "\n",
        "def main():\n",
        "    # Initialize an array\n",
        "    arr = [10, 20, 30, 40, 50]\n",
        "    print(\"Original array:\", arr)\n",
        "\n",
        "    while True:\n",
        "        print(\"\\nMenu:\")\n",
        "        print(\"1. Traverse array\")\n",
        "        print(\"2. Reverse array\")\n",
        "        print(\"3. Insert element\")\n",
        "        print(\"4. Delete element\")\n",
        "        print(\"5. Sort array\")\n",
        "        print(\"6. Exit\")\n",
        "\n",
        "        choice = input(\"Enter your choice (1-6): \")\n",
        "\n",
        "        if choice == '1':\n",
        "            traverse_array(arr)\n",
        "        elif choice == '2':\n",
        "            reverse(arr)\n",
        "        elif choice == '3':\n",
        "            insert_element(arr)\n",
        "        elif choice == '4':\n",
        "            delete_element(arr)\n",
        "        elif choice == '5':\n",
        "            sort(arr)\n",
        "        elif choice == '6':\n",
        "            print(\"Exiting the program.\")\n",
        "            break\n",
        "        else:\n",
        "            print(\"Invalid choice. Please enter a number between 1 and 6.\")\n",
        "\n",
        "if __name__ == \"__main__\":\n",
        "    main()"
      ],
      "metadata": {
        "colab": {
          "base_uri": "https://localhost:8080/"
        },
        "id": "bqn2J5Di72l3",
        "outputId": "389734bb-4b97-4fbb-c34b-0ed68b5497b2"
      },
      "execution_count": null,
      "outputs": [
        {
          "metadata": {
            "tags": null
          },
          "name": "stdout",
          "output_type": "stream",
          "text": [
            "Original array: [10, 20, 30, 40, 50]\n",
            "\n",
            "Menu:\n",
            "1. Traverse array\n",
            "2. Reverse array\n",
            "3. Insert element\n",
            "4. Delete element\n",
            "5. Sort array\n",
            "6. Exit\n"
          ]
        }
      ]
    }
  ],
  "metadata": {
    "colab": {
      "provenance": [],
      "include_colab_link": true
    },
    "kernelspec": {
      "display_name": "Python 3",
      "name": "python3"
    }
  },
  "nbformat": 4,
  "nbformat_minor": 0
}