{
  "cells": [
    {
      "cell_type": "markdown",
      "metadata": {
        "id": "view-in-github",
        "colab_type": "text"
      },
      "source": [
        "<a href=\"https://colab.research.google.com/github/ivanoveGabuyo/CPE-201L---CPE-2-B/blob/main/LAB%2011.ipynb\" target=\"_parent\"><img src=\"https://colab.research.google.com/assets/colab-badge.svg\" alt=\"Open In Colab\"/></a>"
      ]
    },
    {
      "cell_type": "code",
      "source": [
        "\n",
        "from collections import deque\n",
        "\n",
        "class Graph:\n",
        "    def __init__(self):\n",
        "        \"\"\"Initialize an empty graph using a dictionary.\"\"\"\n",
        "        self.graph = {}\n",
        "\n",
        "    def add_edge(self, u, v):\n",
        "        \"\"\"Add an undirected edge between vertices u and v.\"\"\"\n",
        "        self.graph.setdefault(u, []).append(v)\n",
        "        self.graph.setdefault(v, []).append(u)\n",
        "\n",
        "    def bfs(self, start):\n",
        "        \"\"\"Perform Breadth-First Search (BFS) traversal.\"\"\"\n",
        "        visited = set()\n",
        "        queue = deque([start])\n",
        "        result = []\n",
        "\n",
        "        while queue:\n",
        "            vertex = queue.popleft()\n",
        "            if vertex not in visited:\n",
        "                visited.add(vertex)\n",
        "                result.append(vertex)\n",
        "                # Enqueue unvisited neighbors\n",
        "                for neighbor in self.graph.get(vertex, []):\n",
        "                    if neighbor not in visited:\n",
        "                        queue.append(neighbor)\n",
        "        return result\n",
        "\n",
        "    def dfs(self, start):\n",
        "        \"\"\"Perform Depth-First Search (DFS) traversal.\"\"\"\n",
        "        visited = set()\n",
        "        result = []\n",
        "\n",
        "        def dfs_recursive(vertex):\n",
        "            visited.add(vertex)\n",
        "            result.append(vertex)\n",
        "            for neighbor in self.graph.get(vertex, []):\n",
        "                if neighbor not in visited:\n",
        "                    dfs_recursive(neighbor)\n",
        "\n",
        "        dfs_recursive(start)\n",
        "        return result\n",
        "\n",
        "    def display(self):\n",
        "        \"\"\"Display the adjacency list representation of the graph.\"\"\"\n",
        "        for vertex, edges in self.graph.items():\n",
        "            print(f\"{vertex}: {edges}\")\n",
        "\n",
        "\n",
        "def run_example():\n",
        "    g = Graph()\n",
        "\n",
        "\n",
        "    g.add_edge(0, 1)\n",
        "    g.add_edge(0, 2)\n",
        "    g.add_edge(1, 2)\n",
        "    g.add_edge(2, 3)\n",
        "    g.add_edge(3, 4)\n",
        "\n",
        "    print(\"Graph structure:\")\n",
        "    g.display()\n",
        "\n",
        "    print(\"\\nBFS starting from vertex 0:\", g.bfs(0))\n",
        "    print(\"DFS starting from vertex 0:\", g.dfs(0))\n",
        "\n",
        "\n",
        "    g.add_edge(4, 5)\n",
        "    g.add_edge(1, 4)\n",
        "\n",
        "    print(\"\\nAfter adding more edges:\")\n",
        "    g.display()\n",
        "    print(\"\\nBFS starting from vertex 0:\", g.bfs(0))\n",
        "    print(\"DFS starting from vertex 0:\", g.dfs(0))\n",
        "\n",
        "\n",
        "run_example()\n"
      ],
      "metadata": {
        "id": "F1ATSHCm97c1",
        "outputId": "08c1b5d0-1f4a-418a-a0f6-7bcff5bbb77e",
        "colab": {
          "base_uri": "https://localhost:8080/"
        }
      },
      "execution_count": 5,
      "outputs": [
        {
          "output_type": "stream",
          "name": "stdout",
          "text": [
            "Graph structure:\n",
            "0: [1, 2]\n",
            "1: [0, 2]\n",
            "2: [0, 1, 3]\n",
            "3: [2, 4]\n",
            "4: [3]\n",
            "\n",
            "BFS starting from vertex 0: [0, 1, 2, 3, 4]\n",
            "DFS starting from vertex 0: [0, 1, 2, 3, 4]\n",
            "\n",
            "After adding more edges:\n",
            "0: [1, 2]\n",
            "1: [0, 2, 4]\n",
            "2: [0, 1, 3]\n",
            "3: [2, 4]\n",
            "4: [3, 5, 1]\n",
            "5: [4]\n",
            "\n",
            "BFS starting from vertex 0: [0, 1, 2, 4, 3, 5]\n",
            "DFS starting from vertex 0: [0, 1, 2, 3, 4, 5]\n"
          ]
        }
      ]
    }
  ],
  "metadata": {
    "colab": {
      "name": "Welcome To Colab",
      "toc_visible": true,
      "provenance": [],
      "include_colab_link": true
    },
    "kernelspec": {
      "display_name": "Python 3",
      "name": "python3"
    }
  },
  "nbformat": 4,
  "nbformat_minor": 0
}