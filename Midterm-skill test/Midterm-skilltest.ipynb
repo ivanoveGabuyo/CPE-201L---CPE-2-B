{
  "cells": [
    {
      "cell_type": "markdown",
      "metadata": {
        "id": "view-in-github",
        "colab_type": "text"
      },
      "source": [
        "<a href=\"https://colab.research.google.com/github/ivanoveGabuyo/CPE-201L---CPE-2-B/blob/main/Midterm-skilltest.ipynb\" target=\"_parent\"><img src=\"https://colab.research.google.com/assets/colab-badge.svg\" alt=\"Open In Colab\"/></a>"
      ]
    },
    {
      "cell_type": "code",
      "source": [
        "\n",
        "arr = [i for i in range(21, 50)]\n",
        "\n",
        "# a) Display the elements\n",
        "print(\"Array elements:\", arr)\n",
        "\n",
        "# b) Count the number of elements\n",
        "print(\"Number of elements:\", len(arr))\n",
        "\n",
        "# c) Count the number of odd and even integers\n",
        "count_even = len([x for x in arr if x % 2 == 0])\n",
        "count_odd = len([x for x in arr if x % 2 != 0])\n",
        "\n",
        "print(\"Number of even integers:\", count_even)\n",
        "print(\"Number of odd integers:\", count_odd)\n"
      ],
      "metadata": {
        "id": "3bl_L2LJU-xk",
        "outputId": "62ed8deb-a2c8-4d88-cc47-4c386df937f0",
        "colab": {
          "base_uri": "https://localhost:8080/"
        }
      },
      "execution_count": 8,
      "outputs": [
        {
          "output_type": "stream",
          "name": "stdout",
          "text": [
            "Array elements: [21, 22, 23, 24, 25, 26, 27, 28, 29, 30, 31, 32, 33, 34, 35, 36, 37, 38, 39, 40, 41, 42, 43, 44, 45, 46, 47, 48, 49]\n",
            "Number of elements: 29\n",
            "Number of even integers: 14\n",
            "Number of odd integers: 15\n"
          ]
        }
      ]
    }
  ],
  "metadata": {
    "colab": {
      "name": "Welcome To Colab",
      "toc_visible": true,
      "provenance": [],
      "include_colab_link": true
    },
    "kernelspec": {
      "display_name": "Python 3",
      "name": "python3"
    }
  },
  "nbformat": 4,
  "nbformat_minor": 0
}