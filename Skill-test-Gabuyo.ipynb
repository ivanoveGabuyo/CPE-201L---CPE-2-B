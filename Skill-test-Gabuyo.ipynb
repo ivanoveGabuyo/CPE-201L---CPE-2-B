{
  "cells": [
    {
      "cell_type": "markdown",
      "metadata": {
        "id": "view-in-github",
        "colab_type": "text"
      },
      "source": [
        "<a href=\"https://colab.research.google.com/github/ivanoveGabuyo/CPE-201L---CPE-2-B/blob/main/Skill-test-Gabuyo.ipynb\" target=\"_parent\"><img src=\"https://colab.research.google.com/assets/colab-badge.svg\" alt=\"Open In Colab\"/></a>"
      ]
    },
    {
      "cell_type": "code",
      "source": [
        "def insert_underscore_after_O(fullname):\n",
        "    # Convert fullname to an array of characters\n",
        "    char_array = list(fullname)\n",
        "\n",
        "    # Create a new array with underscore insertion\n",
        "    underscored_array = []\n",
        "    inserted = False  # to ensure only ONE underscore is added\n",
        "\n",
        "    for char in char_array:\n",
        "        underscored_array.append(char)\n",
        "        if char == \"O\" and not inserted:\n",
        "            underscored_array.append(\"_\")  # add underscore AFTER O\n",
        "            inserted = True\n",
        "\n",
        "    # Traversal with index (ignoring spaces)\n",
        "    print(\"Traversing array with index (spaces removed) and one underscore after 'O':\")\n",
        "    index = 0\n",
        "    for char in underscored_array:\n",
        "        if char != \" \":  # skip spaces\n",
        "            print(f\"Index {index}: {char}\")\n",
        "            index += 1\n",
        "\n",
        "\n",
        "# Call the function\n",
        "insert_underscore_after_O(\"GABUYO IVAN LOVE D\")\n"
      ],
      "metadata": {
        "id": "z96nFi7g6eX_",
        "outputId": "363e8843-9737-4534-82bd-8aa51ae1bbab",
        "colab": {
          "base_uri": "https://localhost:8080/"
        }
      },
      "execution_count": 42,
      "outputs": [
        {
          "output_type": "stream",
          "name": "stdout",
          "text": [
            "Traversing array with index (spaces removed) and one underscore after 'O':\n",
            "Index 0: G\n",
            "Index 1: A\n",
            "Index 2: B\n",
            "Index 3: U\n",
            "Index 4: Y\n",
            "Index 5: O\n",
            "Index 6: _\n",
            "Index 7: I\n",
            "Index 8: V\n",
            "Index 9: A\n",
            "Index 10: N\n",
            "Index 11: L\n",
            "Index 12: O\n",
            "Index 13: V\n",
            "Index 14: E\n",
            "Index 15: D\n"
          ]
        }
      ]
    },
    {
      "cell_type": "code",
      "source": [],
      "metadata": {
        "id": "lUxaTFBE6kmY"
      },
      "execution_count": null,
      "outputs": []
    }
  ],
  "metadata": {
    "colab": {
      "name": "Welcome To Colab",
      "toc_visible": true,
      "provenance": [],
      "include_colab_link": true
    },
    "kernelspec": {
      "display_name": "Python 3",
      "name": "python3"
    }
  },
  "nbformat": 4,
  "nbformat_minor": 0
}